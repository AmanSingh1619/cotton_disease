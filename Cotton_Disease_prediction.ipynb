{
 "cells": [
  {
   "cell_type": "code",
   "execution_count": 2,
   "metadata": {
    "id": "uYX1fqaoX7WJ"
   },
   "outputs": [],
   "source": [
    "# import the libraries\n",
    "from keras.models  import Sequential,Model\n",
    "from keras.layers import Dense, Conv2D, Flatten ,Input\n",
    "from keras.applications.vgg19 import VGG19\n",
    "from keras.preprocessing.image import ImageDataGenerator ,load_img\n",
    "from keras.preprocessing import image\n",
    "import matplotlib.pyplot as plt\n",
    "import numpy as np\n",
    "from glob import glob"
   ]
  },
  {
   "cell_type": "code",
   "execution_count": 3,
   "metadata": {
    "id": "-S_pBakzfbhu"
   },
   "outputs": [],
   "source": [
    "# resize all the image to this\n",
    "img_size=[224,224]\n",
    "\n",
    "train_path =\"data/train\"\n",
    "test_path =\"data/test\""
   ]
  },
  {
   "cell_type": "code",
   "execution_count": 4,
   "metadata": {
    "id": "2ALgGUgrf60n"
   },
   "outputs": [],
   "source": [
    "# Import the Vgg 16 library as shown below and add preprocessing layer to the front of VGG\n",
    "# Here we will be using imagenet weights\n",
    "\n",
    "vgg_19=VGG19(input_shape=img_size + [3],weights=\"imagenet\",include_top=False)"
   ]
  },
  {
   "cell_type": "code",
   "execution_count": 5,
   "metadata": {
    "colab": {
     "base_uri": "https://localhost:8080/"
    },
    "id": "DT1tGij8lBnz",
    "outputId": "482c3cdd-b4a7-48e0-fd3b-f85dcd55969c"
   },
   "outputs": [
    {
     "name": "stdout",
     "output_type": "stream",
     "text": [
      "Model: \"vgg19\"\n",
      "_________________________________________________________________\n",
      "Layer (type)                 Output Shape              Param #   \n",
      "=================================================================\n",
      "input_1 (InputLayer)         [(None, 224, 224, 3)]     0         \n",
      "_________________________________________________________________\n",
      "block1_conv1 (Conv2D)        (None, 224, 224, 64)      1792      \n",
      "_________________________________________________________________\n",
      "block1_conv2 (Conv2D)        (None, 224, 224, 64)      36928     \n",
      "_________________________________________________________________\n",
      "block1_pool (MaxPooling2D)   (None, 112, 112, 64)      0         \n",
      "_________________________________________________________________\n",
      "block2_conv1 (Conv2D)        (None, 112, 112, 128)     73856     \n",
      "_________________________________________________________________\n",
      "block2_conv2 (Conv2D)        (None, 112, 112, 128)     147584    \n",
      "_________________________________________________________________\n",
      "block2_pool (MaxPooling2D)   (None, 56, 56, 128)       0         \n",
      "_________________________________________________________________\n",
      "block3_conv1 (Conv2D)        (None, 56, 56, 256)       295168    \n",
      "_________________________________________________________________\n",
      "block3_conv2 (Conv2D)        (None, 56, 56, 256)       590080    \n",
      "_________________________________________________________________\n",
      "block3_conv3 (Conv2D)        (None, 56, 56, 256)       590080    \n",
      "_________________________________________________________________\n",
      "block3_conv4 (Conv2D)        (None, 56, 56, 256)       590080    \n",
      "_________________________________________________________________\n",
      "block3_pool (MaxPooling2D)   (None, 28, 28, 256)       0         \n",
      "_________________________________________________________________\n",
      "block4_conv1 (Conv2D)        (None, 28, 28, 512)       1180160   \n",
      "_________________________________________________________________\n",
      "block4_conv2 (Conv2D)        (None, 28, 28, 512)       2359808   \n",
      "_________________________________________________________________\n",
      "block4_conv3 (Conv2D)        (None, 28, 28, 512)       2359808   \n",
      "_________________________________________________________________\n",
      "block4_conv4 (Conv2D)        (None, 28, 28, 512)       2359808   \n",
      "_________________________________________________________________\n",
      "block4_pool (MaxPooling2D)   (None, 14, 14, 512)       0         \n",
      "_________________________________________________________________\n",
      "block5_conv1 (Conv2D)        (None, 14, 14, 512)       2359808   \n",
      "_________________________________________________________________\n",
      "block5_conv2 (Conv2D)        (None, 14, 14, 512)       2359808   \n",
      "_________________________________________________________________\n",
      "block5_conv3 (Conv2D)        (None, 14, 14, 512)       2359808   \n",
      "_________________________________________________________________\n",
      "block5_conv4 (Conv2D)        (None, 14, 14, 512)       2359808   \n",
      "_________________________________________________________________\n",
      "block5_pool (MaxPooling2D)   (None, 7, 7, 512)         0         \n",
      "=================================================================\n",
      "Total params: 20,024,384\n",
      "Trainable params: 20,024,384\n",
      "Non-trainable params: 0\n",
      "_________________________________________________________________\n"
     ]
    }
   ],
   "source": [
    "vgg_19.summary()"
   ]
  },
  {
   "cell_type": "code",
   "execution_count": 6,
   "metadata": {
    "id": "O_9IuP80hf-1"
   },
   "outputs": [],
   "source": [
    "# don't train existing weights\n",
    "\n",
    "for layer in vgg_19.layers:\n",
    "  layer.trainable =False\n"
   ]
  },
  {
   "cell_type": "code",
   "execution_count": 7,
   "metadata": {
    "id": "wQfHvF4EiSW-"
   },
   "outputs": [],
   "source": [
    "# useful for getting number of output classes\n",
    "folders=glob(\"data/train/*\")"
   ]
  },
  {
   "cell_type": "code",
   "execution_count": 8,
   "metadata": {
    "id": "QrE-5bJ6jAFq"
   },
   "outputs": [],
   "source": [
    "# our layers - you can add more if you want\n",
    "x=Flatten()(vgg_19.output)"
   ]
  },
  {
   "cell_type": "code",
   "execution_count": 9,
   "metadata": {
    "id": "ur-yQ6brjKZk"
   },
   "outputs": [],
   "source": [
    "pred=Dense(len(folders),activation =\"softmax\")(x)\n",
    "#create a model object\n",
    "model=Model(inputs=vgg_19.input,outputs=pred)"
   ]
  },
  {
   "cell_type": "code",
   "execution_count": 10,
   "metadata": {
    "colab": {
     "base_uri": "https://localhost:8080/"
    },
    "id": "qjP2BfSzkA5D",
    "outputId": "b786b962-3e69-4439-e842-1c607d34c848"
   },
   "outputs": [
    {
     "name": "stdout",
     "output_type": "stream",
     "text": [
      "Model: \"model\"\n",
      "_________________________________________________________________\n",
      "Layer (type)                 Output Shape              Param #   \n",
      "=================================================================\n",
      "input_1 (InputLayer)         [(None, 224, 224, 3)]     0         \n",
      "_________________________________________________________________\n",
      "block1_conv1 (Conv2D)        (None, 224, 224, 64)      1792      \n",
      "_________________________________________________________________\n",
      "block1_conv2 (Conv2D)        (None, 224, 224, 64)      36928     \n",
      "_________________________________________________________________\n",
      "block1_pool (MaxPooling2D)   (None, 112, 112, 64)      0         \n",
      "_________________________________________________________________\n",
      "block2_conv1 (Conv2D)        (None, 112, 112, 128)     73856     \n",
      "_________________________________________________________________\n",
      "block2_conv2 (Conv2D)        (None, 112, 112, 128)     147584    \n",
      "_________________________________________________________________\n",
      "block2_pool (MaxPooling2D)   (None, 56, 56, 128)       0         \n",
      "_________________________________________________________________\n",
      "block3_conv1 (Conv2D)        (None, 56, 56, 256)       295168    \n",
      "_________________________________________________________________\n",
      "block3_conv2 (Conv2D)        (None, 56, 56, 256)       590080    \n",
      "_________________________________________________________________\n",
      "block3_conv3 (Conv2D)        (None, 56, 56, 256)       590080    \n",
      "_________________________________________________________________\n",
      "block3_conv4 (Conv2D)        (None, 56, 56, 256)       590080    \n",
      "_________________________________________________________________\n",
      "block3_pool (MaxPooling2D)   (None, 28, 28, 256)       0         \n",
      "_________________________________________________________________\n",
      "block4_conv1 (Conv2D)        (None, 28, 28, 512)       1180160   \n",
      "_________________________________________________________________\n",
      "block4_conv2 (Conv2D)        (None, 28, 28, 512)       2359808   \n",
      "_________________________________________________________________\n",
      "block4_conv3 (Conv2D)        (None, 28, 28, 512)       2359808   \n",
      "_________________________________________________________________\n",
      "block4_conv4 (Conv2D)        (None, 28, 28, 512)       2359808   \n",
      "_________________________________________________________________\n",
      "block4_pool (MaxPooling2D)   (None, 14, 14, 512)       0         \n",
      "_________________________________________________________________\n",
      "block5_conv1 (Conv2D)        (None, 14, 14, 512)       2359808   \n",
      "_________________________________________________________________\n",
      "block5_conv2 (Conv2D)        (None, 14, 14, 512)       2359808   \n",
      "_________________________________________________________________\n",
      "block5_conv3 (Conv2D)        (None, 14, 14, 512)       2359808   \n",
      "_________________________________________________________________\n",
      "block5_conv4 (Conv2D)        (None, 14, 14, 512)       2359808   \n",
      "_________________________________________________________________\n",
      "block5_pool (MaxPooling2D)   (None, 7, 7, 512)         0         \n",
      "_________________________________________________________________\n",
      "flatten (Flatten)            (None, 25088)             0         \n",
      "_________________________________________________________________\n",
      "dense (Dense)                (None, 4)                 100356    \n",
      "=================================================================\n",
      "Total params: 20,124,740\n",
      "Trainable params: 100,356\n",
      "Non-trainable params: 20,024,384\n",
      "_________________________________________________________________\n"
     ]
    }
   ],
   "source": [
    "model.summary()"
   ]
  },
  {
   "cell_type": "code",
   "execution_count": 11,
   "metadata": {
    "id": "GOtk0FVWkyHE"
   },
   "outputs": [],
   "source": [
    "# tell the model what cost and optimization method to use\n",
    "model.compile(loss=\"categorical_crossentropy\",metrics=\"accuracy\",optimizer=\"adam\")"
   ]
  },
  {
   "cell_type": "code",
   "execution_count": 12,
   "metadata": {
    "id": "GmbIIe92lysC"
   },
   "outputs": [],
   "source": [
    "# Use the Image Data Generator to import the images from the dataset\n",
    "train_set=ImageDataGenerator(rescale=1./255, shear_range=.2, horizontal_flip=True, zoom_range=0.2)\n",
    "test_set = ImageDataGenerator(rescale=1./255)"
   ]
  },
  {
   "cell_type": "code",
   "execution_count": 16,
   "metadata": {
    "colab": {
     "base_uri": "https://localhost:8080/"
    },
    "id": "ZxvsXZUcmQUr",
    "outputId": "5e34a5f2-506f-43a9-9dd1-12f989a667b5"
   },
   "outputs": [
    {
     "name": "stdout",
     "output_type": "stream",
     "text": [
      "Found 1951 images belonging to 4 classes.\n",
      "Found 18 images belonging to 4 classes.\n"
     ]
    }
   ],
   "source": [
    "training_set=train_set.flow_from_directory(\"data/train\",\n",
    "                                           target_size=(224,224),batch_size=32,class_mode=\"categorical\")\n",
    "testing_set =test_set.flow_from_directory(\"data/test\", \n",
    "                                          target_size=(224,224),batch_size=32,class_mode=\"categorical\")"
   ]
  },
  {
   "cell_type": "code",
   "execution_count": 17,
   "metadata": {
    "colab": {
     "base_uri": "https://localhost:8080/"
    },
    "id": "ZzOfgXOznMvo",
    "outputId": "23b77980-a908-41d3-a48e-80f324eda97a"
   },
   "outputs": [
    {
     "name": "stdout",
     "output_type": "stream",
     "text": [
      "Epoch 1/10\n",
      "61/61 [==============================] - 595s 10s/step - loss: 0.2299 - accuracy: 0.9159 - val_loss: 0.1118 - val_accuracy: 0.9444\n",
      "Epoch 2/10\n",
      "61/61 [==============================] - 600s 10s/step - loss: 0.1919 - accuracy: 0.9247 - val_loss: 0.1462 - val_accuracy: 0.9444\n",
      "Epoch 3/10\n",
      "61/61 [==============================] - 722s 12s/step - loss: 0.2155 - accuracy: 0.9165 - val_loss: 0.1555 - val_accuracy: 0.9444\n",
      "Epoch 4/10\n",
      "61/61 [==============================] - 563s 9s/step - loss: 0.1521 - accuracy: 0.9421 - val_loss: 0.1034 - val_accuracy: 0.9444\n",
      "Epoch 5/10\n",
      "61/61 [==============================] - 575s 9s/step - loss: 0.1305 - accuracy: 0.9528 - val_loss: 0.1123 - val_accuracy: 0.9444\n",
      "Epoch 6/10\n",
      "61/61 [==============================] - 679s 11s/step - loss: 0.1164 - accuracy: 0.9575 - val_loss: 0.1625 - val_accuracy: 0.9444\n",
      "Epoch 7/10\n",
      "61/61 [==============================] - 676s 11s/step - loss: 0.1069 - accuracy: 0.9692 - val_loss: 0.0602 - val_accuracy: 1.0000\n",
      "Epoch 8/10\n",
      "61/61 [==============================] - 660s 11s/step - loss: 0.0870 - accuracy: 0.9703 - val_loss: 0.0636 - val_accuracy: 1.0000\n",
      "Epoch 9/10\n",
      "61/61 [==============================] - 657s 11s/step - loss: 0.0904 - accuracy: 0.9672 - val_loss: 0.0454 - val_accuracy: 1.0000\n",
      "Epoch 10/10\n",
      "61/61 [==============================] - 656s 11s/step - loss: 0.0709 - accuracy: 0.9785 - val_loss: 0.0585 - val_accuracy: 1.0000\n"
     ]
    }
   ],
   "source": [
    "# fit the model\n",
    "# Run the cell. It will take some time to execute\n",
    "cotton_m=model.fit_generator(training_set,validation_data=testing_set,\n",
    "                             epochs=10,steps_per_epoch=len(training_set),\n",
    "                             validation_steps=len(testing_set))"
   ]
  },
  {
   "cell_type": "code",
   "execution_count": 18,
   "metadata": {
    "colab": {
     "base_uri": "https://localhost:8080/",
     "height": 513
    },
    "id": "ldukjF9Jp9s4",
    "outputId": "1368df8c-bf17-4afc-e9e0-405835658cdc"
   },
   "outputs": [
    {
     "data": {
      "image/png": "[encoded data removed]",
      "text/plain": [
       "<Figure size 432x288 with 1 Axes>"
      ]
     },
     "metadata": {
      "needs_background": "light"
     },
     "output_type": "display_data"
    },
    {
     "data": {
      "image/png": "[encoded data removed]",
      "text/plain": [
       "<Figure size 432x288 with 1 Axes>"
      ]
     },
     "metadata": {
      "needs_background": "light"
     },
     "output_type": "display_data"
    }
   ],
   "source": [
    "# plot the loss\n",
    "plt.plot(cotton_m.history['loss'], label='train loss')\n",
    "plt.plot(cotton_m.history['val_loss'], label='val loss')\n",
    "plt.legend()\n",
    "plt.show()\n",
    "plt.savefig('LossVal_loss')\n",
    "\n",
    "# plot the accuracy\n",
    "plt.plot(cotton_m.history['accuracy'], label='train acc')\n",
    "plt.plot(cotton_m.history['val_accuracy'], label='val acc')\n",
    "plt.legend()\n",
    "plt.show()\n",
    "#plt.savefig('AccVal_acc')"
   ]
  },
  {
   "cell_type": "code",
   "execution_count": 19,
   "metadata": {
    "id": "X62JQbyruhFw"
   },
   "outputs": [],
   "source": [
    "y_pred=model.predict(testing_set)"
   ]
  },
  {
   "cell_type": "code",
   "execution_count": 20,
   "metadata": {
    "colab": {
     "base_uri": "https://localhost:8080/"
    },
    "id": "6BbkOpRJdQNd",
    "outputId": "94b69819-029c-4864-e176-b9d57a2512e5"
   },
   "outputs": [
    {
     "data": {
      "text/plain": [
       "array([[1.1551680e-02, 1.3653265e-09, 9.8844832e-01, 7.4445370e-09],\n",
       "       [2.1318061e-05, 9.9939823e-01, 4.2956631e-06, 5.7618471e-04],\n",
       "       [1.7829600e-03, 4.2477715e-01, 8.4646262e-04, 5.7259351e-01],\n",
       "       [9.9976867e-01, 3.8574867e-06, 2.2641642e-04, 1.0358667e-06],\n",
       "       [3.6276608e-06, 9.8977178e-01, 7.1908667e-05, 1.0152656e-02],\n",
       "       [2.3781696e-01, 1.4813244e-06, 7.6213598e-01, 4.5584184e-05],\n",
       "       [7.6524693e-06, 7.9514999e-03, 2.6540423e-04, 9.9177539e-01],\n",
       "       [5.8364921e-04, 9.1512024e-01, 2.6315503e-02, 5.7980552e-02],\n",
       "       [7.5816456e-07, 9.0849957e-05, 5.0913903e-04, 9.9939930e-01],\n",
       "       [7.3746080e-05, 2.8084078e-06, 9.9989831e-01, 2.5206875e-05],\n",
       "       [3.8260632e-04, 1.5556660e-09, 9.9961722e-01, 1.1636888e-07],\n",
       "       [7.6504635e-05, 9.8968494e-01, 2.3587874e-05, 1.0215037e-02],\n",
       "       [5.7143414e-05, 3.8209005e-04, 5.3148642e-07, 9.9956018e-01],\n",
       "       [2.0195180e-06, 3.4960694e-04, 5.0519669e-04, 9.9914312e-01],\n",
       "       [9.9881458e-01, 2.9254638e-04, 2.6932381e-05, 8.6595432e-04],\n",
       "       [9.9999022e-01, 2.0622357e-08, 9.8108021e-06, 1.7804865e-08],\n",
       "       [4.4615418e-04, 5.7621866e-05, 9.9934095e-01, 1.5527043e-04],\n",
       "       [4.8247348e-05, 9.1407681e-01, 6.4228989e-05, 8.5810751e-02]],\n",
       "      dtype=float32)"
      ]
     },
     "execution_count": 20,
     "metadata": {},
     "output_type": "execute_result"
    }
   ],
   "source": [
    "y_pred"
   ]
  },
  {
   "cell_type": "code",
   "execution_count": 21,
   "metadata": {
    "id": "t79DCeaidSsX"
   },
   "outputs": [],
   "source": [
    "y_pred=np.argmax(y_pred,axis=1)"
   ]
  },
  {
   "cell_type": "code",
   "execution_count": 22,
   "metadata": {
    "id": "DfPSSzEFdbIN"
   },
   "outputs": [],
   "source": [
    "model.save(\"cotton_prd.h5\")"
   ]
  },
  {
   "cell_type": "code",
   "execution_count": null,
   "metadata": {
    "id": "ktV6muCPd3U7"
   },
   "outputs": [],
   "source": []
  }
 ],
 "metadata": {
  "accelerator": "GPU",
  "colab": {
   "collapsed_sections": [],
   "name": "Cotton Disease prediction.ipynb",
   "provenance": []
  },
  "kernelspec": {
   "display_name": "Python 3",
   "language": "python",
   "name": "python3"
  },
  "language_info": {
   "codemirror_mode": {
    "name": "ipython",
    "version": 3
   },
   "file_extension": ".py",
   "mimetype": "text/x-python",
   "name": "python",
   "nbconvert_exporter": "python",
   "pygments_lexer": "ipython3",
   "version": "3.8.3"
  }
 },
 "nbformat": 4,
 "nbformat_minor": 1
}
